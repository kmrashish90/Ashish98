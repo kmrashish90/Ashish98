{
 "cells": [
  {
   "cell_type": "code",
   "execution_count": 2,
   "id": "3a5d0a0f",
   "metadata": {},
   "outputs": [],
   "source": [
    "import pandas as pd\n",
    "import warnings\n",
    "import numpy as np\n",
    "from sklearn.cluster import KMeans\n",
    "from sklearn.preprocessing import LabelEncoder\n",
    "from sklearn.preprocessing import MinMaxScaler\n",
    "from sklearn.metrics import silhouette_score\n",
    "from scipy.spatial.distance import cdist\n",
    "import seaborn as sns \n",
    "import matplotlib.pyplot as plt \n",
    "%matplotlib inline\n",
    "import os\n",
    "warnings.filterwarnings(\"ignore\")"
   ]
  },
  {
   "cell_type": "code",
   "execution_count": 3,
   "id": "ac3d5a15",
   "metadata": {},
   "outputs": [
    {
     "data": {
      "text/plain": [
       "'D:\\\\Study\\\\Python programming\\\\Case Study Clustering'"
      ]
     },
     "execution_count": 3,
     "metadata": {},
     "output_type": "execute_result"
    }
   ],
   "source": [
    "os.chdir(R\"D:\\Study\\Python programming\\Case Study Clustering\")\n",
    "os.getcwd()"
   ]
  },
  {
   "cell_type": "code",
   "execution_count": 4,
   "id": "f03ff180",
   "metadata": {},
   "outputs": [
    {
     "data": {
      "text/html": [
       "<div>\n",
       "<style scoped>\n",
       "    .dataframe tbody tr th:only-of-type {\n",
       "        vertical-align: middle;\n",
       "    }\n",
       "\n",
       "    .dataframe tbody tr th {\n",
       "        vertical-align: top;\n",
       "    }\n",
       "\n",
       "    .dataframe thead th {\n",
       "        text-align: right;\n",
       "    }\n",
       "</style>\n",
       "<table border=\"1\" class=\"dataframe\">\n",
       "  <thead>\n",
       "    <tr style=\"text-align: right;\">\n",
       "      <th></th>\n",
       "      <th>CustomerID</th>\n",
       "      <th>Genre</th>\n",
       "      <th>Age</th>\n",
       "      <th>Annual Income (k$)</th>\n",
       "      <th>Spending Score (1-100)</th>\n",
       "    </tr>\n",
       "  </thead>\n",
       "  <tbody>\n",
       "    <tr>\n",
       "      <th>0</th>\n",
       "      <td>1</td>\n",
       "      <td>Male</td>\n",
       "      <td>19</td>\n",
       "      <td>15</td>\n",
       "      <td>39</td>\n",
       "    </tr>\n",
       "    <tr>\n",
       "      <th>1</th>\n",
       "      <td>2</td>\n",
       "      <td>Male</td>\n",
       "      <td>21</td>\n",
       "      <td>15</td>\n",
       "      <td>81</td>\n",
       "    </tr>\n",
       "    <tr>\n",
       "      <th>2</th>\n",
       "      <td>3</td>\n",
       "      <td>Female</td>\n",
       "      <td>20</td>\n",
       "      <td>16</td>\n",
       "      <td>6</td>\n",
       "    </tr>\n",
       "    <tr>\n",
       "      <th>3</th>\n",
       "      <td>4</td>\n",
       "      <td>Female</td>\n",
       "      <td>23</td>\n",
       "      <td>16</td>\n",
       "      <td>77</td>\n",
       "    </tr>\n",
       "    <tr>\n",
       "      <th>4</th>\n",
       "      <td>5</td>\n",
       "      <td>Female</td>\n",
       "      <td>31</td>\n",
       "      <td>17</td>\n",
       "      <td>40</td>\n",
       "    </tr>\n",
       "    <tr>\n",
       "      <th>...</th>\n",
       "      <td>...</td>\n",
       "      <td>...</td>\n",
       "      <td>...</td>\n",
       "      <td>...</td>\n",
       "      <td>...</td>\n",
       "    </tr>\n",
       "    <tr>\n",
       "      <th>195</th>\n",
       "      <td>196</td>\n",
       "      <td>Female</td>\n",
       "      <td>35</td>\n",
       "      <td>120</td>\n",
       "      <td>79</td>\n",
       "    </tr>\n",
       "    <tr>\n",
       "      <th>196</th>\n",
       "      <td>197</td>\n",
       "      <td>Female</td>\n",
       "      <td>45</td>\n",
       "      <td>126</td>\n",
       "      <td>28</td>\n",
       "    </tr>\n",
       "    <tr>\n",
       "      <th>197</th>\n",
       "      <td>198</td>\n",
       "      <td>Male</td>\n",
       "      <td>32</td>\n",
       "      <td>126</td>\n",
       "      <td>74</td>\n",
       "    </tr>\n",
       "    <tr>\n",
       "      <th>198</th>\n",
       "      <td>199</td>\n",
       "      <td>Male</td>\n",
       "      <td>32</td>\n",
       "      <td>137</td>\n",
       "      <td>18</td>\n",
       "    </tr>\n",
       "    <tr>\n",
       "      <th>199</th>\n",
       "      <td>200</td>\n",
       "      <td>Male</td>\n",
       "      <td>30</td>\n",
       "      <td>137</td>\n",
       "      <td>83</td>\n",
       "    </tr>\n",
       "  </tbody>\n",
       "</table>\n",
       "<p>200 rows × 5 columns</p>\n",
       "</div>"
      ],
      "text/plain": [
       "     CustomerID   Genre  Age  Annual Income (k$)  Spending Score (1-100)\n",
       "0             1    Male   19                  15                      39\n",
       "1             2    Male   21                  15                      81\n",
       "2             3  Female   20                  16                       6\n",
       "3             4  Female   23                  16                      77\n",
       "4             5  Female   31                  17                      40\n",
       "..          ...     ...  ...                 ...                     ...\n",
       "195         196  Female   35                 120                      79\n",
       "196         197  Female   45                 126                      28\n",
       "197         198    Male   32                 126                      74\n",
       "198         199    Male   32                 137                      18\n",
       "199         200    Male   30                 137                      83\n",
       "\n",
       "[200 rows x 5 columns]"
      ]
     },
     "execution_count": 4,
     "metadata": {},
     "output_type": "execute_result"
    }
   ],
   "source": [
    "data=pd.read_csv(\"Mall_Customers.csv\")\n",
    "data"
   ]
  },
  {
   "cell_type": "code",
   "execution_count": 5,
   "id": "8d4c5474",
   "metadata": {},
   "outputs": [
    {
     "data": {
      "text/html": [
       "<div>\n",
       "<style scoped>\n",
       "    .dataframe tbody tr th:only-of-type {\n",
       "        vertical-align: middle;\n",
       "    }\n",
       "\n",
       "    .dataframe tbody tr th {\n",
       "        vertical-align: top;\n",
       "    }\n",
       "\n",
       "    .dataframe thead th {\n",
       "        text-align: right;\n",
       "    }\n",
       "</style>\n",
       "<table border=\"1\" class=\"dataframe\">\n",
       "  <thead>\n",
       "    <tr style=\"text-align: right;\">\n",
       "      <th></th>\n",
       "      <th>CustomerID</th>\n",
       "      <th>Age</th>\n",
       "      <th>Annual Income (k$)</th>\n",
       "      <th>Spending Score (1-100)</th>\n",
       "    </tr>\n",
       "  </thead>\n",
       "  <tbody>\n",
       "    <tr>\n",
       "      <th>count</th>\n",
       "      <td>200.000000</td>\n",
       "      <td>200.000000</td>\n",
       "      <td>200.000000</td>\n",
       "      <td>200.000000</td>\n",
       "    </tr>\n",
       "    <tr>\n",
       "      <th>mean</th>\n",
       "      <td>100.500000</td>\n",
       "      <td>38.850000</td>\n",
       "      <td>60.560000</td>\n",
       "      <td>50.200000</td>\n",
       "    </tr>\n",
       "    <tr>\n",
       "      <th>std</th>\n",
       "      <td>57.879185</td>\n",
       "      <td>13.969007</td>\n",
       "      <td>26.264721</td>\n",
       "      <td>25.823522</td>\n",
       "    </tr>\n",
       "    <tr>\n",
       "      <th>min</th>\n",
       "      <td>1.000000</td>\n",
       "      <td>18.000000</td>\n",
       "      <td>15.000000</td>\n",
       "      <td>1.000000</td>\n",
       "    </tr>\n",
       "    <tr>\n",
       "      <th>25%</th>\n",
       "      <td>50.750000</td>\n",
       "      <td>28.750000</td>\n",
       "      <td>41.500000</td>\n",
       "      <td>34.750000</td>\n",
       "    </tr>\n",
       "    <tr>\n",
       "      <th>50%</th>\n",
       "      <td>100.500000</td>\n",
       "      <td>36.000000</td>\n",
       "      <td>61.500000</td>\n",
       "      <td>50.000000</td>\n",
       "    </tr>\n",
       "    <tr>\n",
       "      <th>75%</th>\n",
       "      <td>150.250000</td>\n",
       "      <td>49.000000</td>\n",
       "      <td>78.000000</td>\n",
       "      <td>73.000000</td>\n",
       "    </tr>\n",
       "    <tr>\n",
       "      <th>max</th>\n",
       "      <td>200.000000</td>\n",
       "      <td>70.000000</td>\n",
       "      <td>137.000000</td>\n",
       "      <td>99.000000</td>\n",
       "    </tr>\n",
       "  </tbody>\n",
       "</table>\n",
       "</div>"
      ],
      "text/plain": [
       "       CustomerID         Age  Annual Income (k$)  Spending Score (1-100)\n",
       "count  200.000000  200.000000          200.000000              200.000000\n",
       "mean   100.500000   38.850000           60.560000               50.200000\n",
       "std     57.879185   13.969007           26.264721               25.823522\n",
       "min      1.000000   18.000000           15.000000                1.000000\n",
       "25%     50.750000   28.750000           41.500000               34.750000\n",
       "50%    100.500000   36.000000           61.500000               50.000000\n",
       "75%    150.250000   49.000000           78.000000               73.000000\n",
       "max    200.000000   70.000000          137.000000               99.000000"
      ]
     },
     "execution_count": 5,
     "metadata": {},
     "output_type": "execute_result"
    }
   ],
   "source": [
    "data.describe()"
   ]
  },
  {
   "cell_type": "code",
   "execution_count": 6,
   "id": "c5d85579",
   "metadata": {},
   "outputs": [
    {
     "data": {
      "text/plain": [
       "CustomerID                0\n",
       "Genre                     0\n",
       "Age                       0\n",
       "Annual Income (k$)        0\n",
       "Spending Score (1-100)    0\n",
       "dtype: int64"
      ]
     },
     "execution_count": 6,
     "metadata": {},
     "output_type": "execute_result"
    }
   ],
   "source": [
    "data.isnull().sum()"
   ]
  },
  {
   "cell_type": "code",
   "execution_count": 6,
   "id": "86314728",
   "metadata": {},
   "outputs": [
    {
     "data": {
      "text/plain": [
       "0"
      ]
     },
     "execution_count": 6,
     "metadata": {},
     "output_type": "execute_result"
    }
   ],
   "source": [
    "(data.duplicated()==1).sum()"
   ]
  },
  {
   "cell_type": "code",
   "execution_count": 7,
   "id": "94399d0f",
   "metadata": {},
   "outputs": [
    {
     "data": {
      "text/plain": [
       "Female    112\n",
       "Male       88\n",
       "Name: Genre, dtype: int64"
      ]
     },
     "execution_count": 7,
     "metadata": {},
     "output_type": "execute_result"
    }
   ],
   "source": [
    "data.Genre.value_counts()"
   ]
  },
  {
   "cell_type": "code",
   "execution_count": 8,
   "id": "be73efd5",
   "metadata": {},
   "outputs": [
    {
     "data": {
      "text/html": [
       "<div>\n",
       "<style scoped>\n",
       "    .dataframe tbody tr th:only-of-type {\n",
       "        vertical-align: middle;\n",
       "    }\n",
       "\n",
       "    .dataframe tbody tr th {\n",
       "        vertical-align: top;\n",
       "    }\n",
       "\n",
       "    .dataframe thead th {\n",
       "        text-align: right;\n",
       "    }\n",
       "</style>\n",
       "<table border=\"1\" class=\"dataframe\">\n",
       "  <thead>\n",
       "    <tr style=\"text-align: right;\">\n",
       "      <th></th>\n",
       "      <th>Age</th>\n",
       "      <th>Annual Income (k$)</th>\n",
       "      <th>Spending Score (1-100)</th>\n",
       "    </tr>\n",
       "    <tr>\n",
       "      <th>Genre</th>\n",
       "      <th></th>\n",
       "      <th></th>\n",
       "      <th></th>\n",
       "    </tr>\n",
       "  </thead>\n",
       "  <tbody>\n",
       "    <tr>\n",
       "      <th>Female</th>\n",
       "      <td>38.098214</td>\n",
       "      <td>59.250000</td>\n",
       "      <td>51.526786</td>\n",
       "    </tr>\n",
       "    <tr>\n",
       "      <th>Male</th>\n",
       "      <td>39.806818</td>\n",
       "      <td>62.227273</td>\n",
       "      <td>48.511364</td>\n",
       "    </tr>\n",
       "  </tbody>\n",
       "</table>\n",
       "</div>"
      ],
      "text/plain": [
       "              Age  Annual Income (k$)  Spending Score (1-100)\n",
       "Genre                                                        \n",
       "Female  38.098214           59.250000               51.526786\n",
       "Male    39.806818           62.227273               48.511364"
      ]
     },
     "execution_count": 8,
     "metadata": {},
     "output_type": "execute_result"
    }
   ],
   "source": [
    "data.groupby(\"Genre\").mean().drop(columns=[\"CustomerID\"])"
   ]
  },
  {
   "cell_type": "code",
   "execution_count": 149,
   "id": "bcbd50d4",
   "metadata": {},
   "outputs": [
    {
     "data": {
      "text/plain": [
       "<seaborn.axisgrid.FacetGrid at 0x1e226a6d700>"
      ]
     },
     "execution_count": 149,
     "metadata": {},
     "output_type": "execute_result"
    },
    {
     "data": {
      "image/png": "[encoded data removed]",
      "text/plain": [
       "<Figure size 432x216 with 2 Axes>"
      ]
     },
     "metadata": {
      "needs_background": "light"
     },
     "output_type": "display_data"
    },
    {
     "data": {
      "image/png": "[encoded data removed]",
      "text/plain": [
       "<Figure size 432x216 with 2 Axes>"
      ]
     },
     "metadata": {
      "needs_background": "light"
     },
     "output_type": "display_data"
    },
    {
     "data": {
      "image/png": "[encoded data removed]",
      "text/plain": [
       "<Figure size 432x216 with 2 Axes>"
      ]
     },
     "metadata": {
      "needs_background": "light"
     },
     "output_type": "display_data"
    }
   ],
   "source": [
    "fct=sns.FacetGrid(data,col=\"Genre\")\n",
    "fct.map(plt.hist,\"Age\")\n",
    "\n",
    "fct=sns.FacetGrid(data,col=\"Genre\")\n",
    "fct.map(plt.hist,\"Annual Income (k$)\")\n",
    "\n",
    "fct=sns.FacetGrid(data,col=\"Genre\")\n",
    "fct.map(plt.hist,\"Spending Score (1-100)\")"
   ]
  },
  {
   "cell_type": "code",
   "execution_count": 150,
   "id": "eeac5863",
   "metadata": {},
   "outputs": [
    {
     "data": {
      "image/png": "[encoded data removed]",
      "text/plain": [
       "<Figure size 432x288 with 1 Axes>"
      ]
     },
     "metadata": {
      "needs_background": "light"
     },
     "output_type": "display_data"
    }
   ],
   "source": [
    "sns.countplot(data.Genre)\n",
    "plt.show()"
   ]
  },
  {
   "cell_type": "code",
   "execution_count": 151,
   "id": "9190e839",
   "metadata": {},
   "outputs": [
    {
     "data": {
      "image/png": "[encoded data removed]",
      "text/plain": [
       "<Figure size 432x288 with 1 Axes>"
      ]
     },
     "metadata": {
      "needs_background": "light"
     },
     "output_type": "display_data"
    },
    {
     "data": {
      "image/png": "[encoded data removed]",
      "text/plain": [
       "<Figure size 432x288 with 1 Axes>"
      ]
     },
     "metadata": {
      "needs_background": "light"
     },
     "output_type": "display_data"
    },
    {
     "data": {
      "image/png": "[encoded data removed]",
      "text/plain": [
       "<Figure size 432x288 with 1 Axes>"
      ]
     },
     "metadata": {
      "needs_background": "light"
     },
     "output_type": "display_data"
    }
   ],
   "source": [
    "sns.distplot(data.Age)\n",
    "plt.show()\n",
    "\n",
    "sns.distplot(data[\"Annual Income (k$)\"])\n",
    "plt.show()\n",
    "\n",
    "sns.distplot(data[\"Spending Score (1-100)\"])\n",
    "plt.show()"
   ]
  },
  {
   "cell_type": "code",
   "execution_count": 152,
   "id": "7658926a",
   "metadata": {},
   "outputs": [
    {
     "data": {
      "image/png": "[encoded data removed]",
      "text/plain": [
       "<Figure size 432x288 with 2 Axes>"
      ]
     },
     "metadata": {
      "needs_background": "light"
     },
     "output_type": "display_data"
    }
   ],
   "source": [
    "cor=data.corr()\n",
    "sns.heatmap(cor,annot=True)\n",
    "plt.show()"
   ]
  },
  {
   "cell_type": "code",
   "execution_count": 7,
   "id": "f9c600f3",
   "metadata": {},
   "outputs": [],
   "source": [
    "data_dropped=data.drop(columns=[\"CustomerID\"])"
   ]
  },
  {
   "cell_type": "code",
   "execution_count": 8,
   "id": "429c4d8e",
   "metadata": {
    "scrolled": true
   },
   "outputs": [
    {
     "data": {
      "text/html": [
       "<div>\n",
       "<style scoped>\n",
       "    .dataframe tbody tr th:only-of-type {\n",
       "        vertical-align: middle;\n",
       "    }\n",
       "\n",
       "    .dataframe tbody tr th {\n",
       "        vertical-align: top;\n",
       "    }\n",
       "\n",
       "    .dataframe thead th {\n",
       "        text-align: right;\n",
       "    }\n",
       "</style>\n",
       "<table border=\"1\" class=\"dataframe\">\n",
       "  <thead>\n",
       "    <tr style=\"text-align: right;\">\n",
       "      <th></th>\n",
       "      <th>Female</th>\n",
       "      <th>Male</th>\n",
       "    </tr>\n",
       "  </thead>\n",
       "  <tbody>\n",
       "    <tr>\n",
       "      <th>0</th>\n",
       "      <td>0</td>\n",
       "      <td>1</td>\n",
       "    </tr>\n",
       "    <tr>\n",
       "      <th>1</th>\n",
       "      <td>0</td>\n",
       "      <td>1</td>\n",
       "    </tr>\n",
       "    <tr>\n",
       "      <th>2</th>\n",
       "      <td>1</td>\n",
       "      <td>0</td>\n",
       "    </tr>\n",
       "    <tr>\n",
       "      <th>3</th>\n",
       "      <td>1</td>\n",
       "      <td>0</td>\n",
       "    </tr>\n",
       "    <tr>\n",
       "      <th>4</th>\n",
       "      <td>1</td>\n",
       "      <td>0</td>\n",
       "    </tr>\n",
       "    <tr>\n",
       "      <th>...</th>\n",
       "      <td>...</td>\n",
       "      <td>...</td>\n",
       "    </tr>\n",
       "    <tr>\n",
       "      <th>195</th>\n",
       "      <td>1</td>\n",
       "      <td>0</td>\n",
       "    </tr>\n",
       "    <tr>\n",
       "      <th>196</th>\n",
       "      <td>1</td>\n",
       "      <td>0</td>\n",
       "    </tr>\n",
       "    <tr>\n",
       "      <th>197</th>\n",
       "      <td>0</td>\n",
       "      <td>1</td>\n",
       "    </tr>\n",
       "    <tr>\n",
       "      <th>198</th>\n",
       "      <td>0</td>\n",
       "      <td>1</td>\n",
       "    </tr>\n",
       "    <tr>\n",
       "      <th>199</th>\n",
       "      <td>0</td>\n",
       "      <td>1</td>\n",
       "    </tr>\n",
       "  </tbody>\n",
       "</table>\n",
       "<p>200 rows × 2 columns</p>\n",
       "</div>"
      ],
      "text/plain": [
       "     Female  Male\n",
       "0         0     1\n",
       "1         0     1\n",
       "2         1     0\n",
       "3         1     0\n",
       "4         1     0\n",
       "..      ...   ...\n",
       "195       1     0\n",
       "196       1     0\n",
       "197       0     1\n",
       "198       0     1\n",
       "199       0     1\n",
       "\n",
       "[200 rows x 2 columns]"
      ]
     },
     "execution_count": 8,
     "metadata": {},
     "output_type": "execute_result"
    }
   ],
   "source": [
    "data_dummy=pd.get_dummies(data_dropped[\"Genre\"])\n",
    "data_dummy"
   ]
  },
  {
   "cell_type": "code",
   "execution_count": 11,
   "id": "63dd6b4c",
   "metadata": {},
   "outputs": [
    {
     "data": {
      "text/html": [
       "<div>\n",
       "<style scoped>\n",
       "    .dataframe tbody tr th:only-of-type {\n",
       "        vertical-align: middle;\n",
       "    }\n",
       "\n",
       "    .dataframe tbody tr th {\n",
       "        vertical-align: top;\n",
       "    }\n",
       "\n",
       "    .dataframe thead th {\n",
       "        text-align: right;\n",
       "    }\n",
       "</style>\n",
       "<table border=\"1\" class=\"dataframe\">\n",
       "  <thead>\n",
       "    <tr style=\"text-align: right;\">\n",
       "      <th></th>\n",
       "      <th>Genre</th>\n",
       "      <th>Age</th>\n",
       "      <th>Annual Income (k$)</th>\n",
       "      <th>Spending Score (1-100)</th>\n",
       "      <th>Female</th>\n",
       "      <th>Male</th>\n",
       "    </tr>\n",
       "  </thead>\n",
       "  <tbody>\n",
       "    <tr>\n",
       "      <th>0</th>\n",
       "      <td>Male</td>\n",
       "      <td>19</td>\n",
       "      <td>15</td>\n",
       "      <td>39</td>\n",
       "      <td>0</td>\n",
       "      <td>1</td>\n",
       "    </tr>\n",
       "    <tr>\n",
       "      <th>1</th>\n",
       "      <td>Male</td>\n",
       "      <td>21</td>\n",
       "      <td>15</td>\n",
       "      <td>81</td>\n",
       "      <td>0</td>\n",
       "      <td>1</td>\n",
       "    </tr>\n",
       "    <tr>\n",
       "      <th>2</th>\n",
       "      <td>Female</td>\n",
       "      <td>20</td>\n",
       "      <td>16</td>\n",
       "      <td>6</td>\n",
       "      <td>1</td>\n",
       "      <td>0</td>\n",
       "    </tr>\n",
       "    <tr>\n",
       "      <th>3</th>\n",
       "      <td>Female</td>\n",
       "      <td>23</td>\n",
       "      <td>16</td>\n",
       "      <td>77</td>\n",
       "      <td>1</td>\n",
       "      <td>0</td>\n",
       "    </tr>\n",
       "    <tr>\n",
       "      <th>4</th>\n",
       "      <td>Female</td>\n",
       "      <td>31</td>\n",
       "      <td>17</td>\n",
       "      <td>40</td>\n",
       "      <td>1</td>\n",
       "      <td>0</td>\n",
       "    </tr>\n",
       "    <tr>\n",
       "      <th>...</th>\n",
       "      <td>...</td>\n",
       "      <td>...</td>\n",
       "      <td>...</td>\n",
       "      <td>...</td>\n",
       "      <td>...</td>\n",
       "      <td>...</td>\n",
       "    </tr>\n",
       "    <tr>\n",
       "      <th>195</th>\n",
       "      <td>Female</td>\n",
       "      <td>35</td>\n",
       "      <td>120</td>\n",
       "      <td>79</td>\n",
       "      <td>1</td>\n",
       "      <td>0</td>\n",
       "    </tr>\n",
       "    <tr>\n",
       "      <th>196</th>\n",
       "      <td>Female</td>\n",
       "      <td>45</td>\n",
       "      <td>126</td>\n",
       "      <td>28</td>\n",
       "      <td>1</td>\n",
       "      <td>0</td>\n",
       "    </tr>\n",
       "    <tr>\n",
       "      <th>197</th>\n",
       "      <td>Male</td>\n",
       "      <td>32</td>\n",
       "      <td>126</td>\n",
       "      <td>74</td>\n",
       "      <td>0</td>\n",
       "      <td>1</td>\n",
       "    </tr>\n",
       "    <tr>\n",
       "      <th>198</th>\n",
       "      <td>Male</td>\n",
       "      <td>32</td>\n",
       "      <td>137</td>\n",
       "      <td>18</td>\n",
       "      <td>0</td>\n",
       "      <td>1</td>\n",
       "    </tr>\n",
       "    <tr>\n",
       "      <th>199</th>\n",
       "      <td>Male</td>\n",
       "      <td>30</td>\n",
       "      <td>137</td>\n",
       "      <td>83</td>\n",
       "      <td>0</td>\n",
       "      <td>1</td>\n",
       "    </tr>\n",
       "  </tbody>\n",
       "</table>\n",
       "<p>200 rows × 6 columns</p>\n",
       "</div>"
      ],
      "text/plain": [
       "      Genre  Age  Annual Income (k$)  Spending Score (1-100)  Female  Male\n",
       "0      Male   19                  15                      39       0     1\n",
       "1      Male   21                  15                      81       0     1\n",
       "2    Female   20                  16                       6       1     0\n",
       "3    Female   23                  16                      77       1     0\n",
       "4    Female   31                  17                      40       1     0\n",
       "..      ...  ...                 ...                     ...     ...   ...\n",
       "195  Female   35                 120                      79       1     0\n",
       "196  Female   45                 126                      28       1     0\n",
       "197    Male   32                 126                      74       0     1\n",
       "198    Male   32                 137                      18       0     1\n",
       "199    Male   30                 137                      83       0     1\n",
       "\n",
       "[200 rows x 6 columns]"
      ]
     },
     "execution_count": 11,
     "metadata": {},
     "output_type": "execute_result"
    }
   ],
   "source": [
    "data_encoded=pd.concat([data_dropped,data_dummy],axis=1)\n",
    "data_encoded"
   ]
  },
  {
   "cell_type": "code",
   "execution_count": 12,
   "id": "c6338d99",
   "metadata": {},
   "outputs": [
    {
     "data": {
      "text/html": [
       "<div>\n",
       "<style scoped>\n",
       "    .dataframe tbody tr th:only-of-type {\n",
       "        vertical-align: middle;\n",
       "    }\n",
       "\n",
       "    .dataframe tbody tr th {\n",
       "        vertical-align: top;\n",
       "    }\n",
       "\n",
       "    .dataframe thead th {\n",
       "        text-align: right;\n",
       "    }\n",
       "</style>\n",
       "<table border=\"1\" class=\"dataframe\">\n",
       "  <thead>\n",
       "    <tr style=\"text-align: right;\">\n",
       "      <th></th>\n",
       "      <th>Age</th>\n",
       "      <th>Annual Income (k$)</th>\n",
       "      <th>Spending Score (1-100)</th>\n",
       "      <th>Female</th>\n",
       "    </tr>\n",
       "  </thead>\n",
       "  <tbody>\n",
       "    <tr>\n",
       "      <th>0</th>\n",
       "      <td>19</td>\n",
       "      <td>15</td>\n",
       "      <td>39</td>\n",
       "      <td>0</td>\n",
       "    </tr>\n",
       "    <tr>\n",
       "      <th>1</th>\n",
       "      <td>21</td>\n",
       "      <td>15</td>\n",
       "      <td>81</td>\n",
       "      <td>0</td>\n",
       "    </tr>\n",
       "    <tr>\n",
       "      <th>2</th>\n",
       "      <td>20</td>\n",
       "      <td>16</td>\n",
       "      <td>6</td>\n",
       "      <td>1</td>\n",
       "    </tr>\n",
       "    <tr>\n",
       "      <th>3</th>\n",
       "      <td>23</td>\n",
       "      <td>16</td>\n",
       "      <td>77</td>\n",
       "      <td>1</td>\n",
       "    </tr>\n",
       "    <tr>\n",
       "      <th>4</th>\n",
       "      <td>31</td>\n",
       "      <td>17</td>\n",
       "      <td>40</td>\n",
       "      <td>1</td>\n",
       "    </tr>\n",
       "    <tr>\n",
       "      <th>...</th>\n",
       "      <td>...</td>\n",
       "      <td>...</td>\n",
       "      <td>...</td>\n",
       "      <td>...</td>\n",
       "    </tr>\n",
       "    <tr>\n",
       "      <th>195</th>\n",
       "      <td>35</td>\n",
       "      <td>120</td>\n",
       "      <td>79</td>\n",
       "      <td>1</td>\n",
       "    </tr>\n",
       "    <tr>\n",
       "      <th>196</th>\n",
       "      <td>45</td>\n",
       "      <td>126</td>\n",
       "      <td>28</td>\n",
       "      <td>1</td>\n",
       "    </tr>\n",
       "    <tr>\n",
       "      <th>197</th>\n",
       "      <td>32</td>\n",
       "      <td>126</td>\n",
       "      <td>74</td>\n",
       "      <td>0</td>\n",
       "    </tr>\n",
       "    <tr>\n",
       "      <th>198</th>\n",
       "      <td>32</td>\n",
       "      <td>137</td>\n",
       "      <td>18</td>\n",
       "      <td>0</td>\n",
       "    </tr>\n",
       "    <tr>\n",
       "      <th>199</th>\n",
       "      <td>30</td>\n",
       "      <td>137</td>\n",
       "      <td>83</td>\n",
       "      <td>0</td>\n",
       "    </tr>\n",
       "  </tbody>\n",
       "</table>\n",
       "<p>200 rows × 4 columns</p>\n",
       "</div>"
      ],
      "text/plain": [
       "     Age  Annual Income (k$)  Spending Score (1-100)  Female\n",
       "0     19                  15                      39       0\n",
       "1     21                  15                      81       0\n",
       "2     20                  16                       6       1\n",
       "3     23                  16                      77       1\n",
       "4     31                  17                      40       1\n",
       "..   ...                 ...                     ...     ...\n",
       "195   35                 120                      79       1\n",
       "196   45                 126                      28       1\n",
       "197   32                 126                      74       0\n",
       "198   32                 137                      18       0\n",
       "199   30                 137                      83       0\n",
       "\n",
       "[200 rows x 4 columns]"
      ]
     },
     "execution_count": 12,
     "metadata": {},
     "output_type": "execute_result"
    }
   ],
   "source": [
    "data_encoded=data_encoded.drop(columns=[\"Genre\",\"Male\"])\n",
    "data_encoded"
   ]
  },
  {
   "cell_type": "code",
   "execution_count": 13,
   "id": "5e4f21e5",
   "metadata": {},
   "outputs": [
    {
     "data": {
      "text/plain": [
       "array([[0.01923077, 0.        , 0.3877551 , 0.        ],\n",
       "       [0.05769231, 0.        , 0.81632653, 0.        ],\n",
       "       [0.03846154, 0.00819672, 0.05102041, 1.        ],\n",
       "       [0.09615385, 0.00819672, 0.7755102 , 1.        ],\n",
       "       [0.25      , 0.01639344, 0.39795918, 1.        ],\n",
       "       [0.07692308, 0.01639344, 0.76530612, 1.        ],\n",
       "       [0.32692308, 0.02459016, 0.05102041, 1.        ],\n",
       "       [0.09615385, 0.02459016, 0.94897959, 1.        ],\n",
       "       [0.88461538, 0.03278689, 0.02040816, 0.        ],\n",
       "       [0.23076923, 0.03278689, 0.7244898 , 1.        ],\n",
       "       [0.94230769, 0.03278689, 0.13265306, 0.        ],\n",
       "       [0.32692308, 0.03278689, 1.        , 1.        ],\n",
       "       [0.76923077, 0.04098361, 0.14285714, 1.        ],\n",
       "       [0.11538462, 0.04098361, 0.7755102 , 1.        ],\n",
       "       [0.36538462, 0.04098361, 0.12244898, 0.        ],\n",
       "       [0.07692308, 0.04098361, 0.79591837, 0.        ],\n",
       "       [0.32692308, 0.04918033, 0.34693878, 1.        ],\n",
       "       [0.03846154, 0.04918033, 0.66326531, 0.        ],\n",
       "       [0.65384615, 0.06557377, 0.28571429, 0.        ],\n",
       "       [0.32692308, 0.06557377, 0.98979592, 1.        ],\n",
       "       [0.32692308, 0.07377049, 0.34693878, 0.        ],\n",
       "       [0.13461538, 0.07377049, 0.73469388, 0.        ],\n",
       "       [0.53846154, 0.08196721, 0.04081633, 1.        ],\n",
       "       [0.25      , 0.08196721, 0.73469388, 0.        ],\n",
       "       [0.69230769, 0.10655738, 0.13265306, 1.        ],\n",
       "       [0.21153846, 0.10655738, 0.82653061, 0.        ],\n",
       "       [0.51923077, 0.10655738, 0.31632653, 1.        ],\n",
       "       [0.32692308, 0.10655738, 0.6122449 , 0.        ],\n",
       "       [0.42307692, 0.1147541 , 0.30612245, 1.        ],\n",
       "       [0.09615385, 0.1147541 , 0.87755102, 1.        ],\n",
       "       [0.80769231, 0.12295082, 0.03061224, 0.        ],\n",
       "       [0.05769231, 0.12295082, 0.73469388, 1.        ],\n",
       "       [0.67307692, 0.14754098, 0.03061224, 0.        ],\n",
       "       [0.        , 0.14754098, 0.92857143, 0.        ],\n",
       "       [0.59615385, 0.14754098, 0.13265306, 1.        ],\n",
       "       [0.05769231, 0.14754098, 0.81632653, 1.        ],\n",
       "       [0.46153846, 0.1557377 , 0.16326531, 1.        ],\n",
       "       [0.23076923, 0.1557377 , 0.73469388, 1.        ],\n",
       "       [0.34615385, 0.18032787, 0.25510204, 1.        ],\n",
       "       [0.03846154, 0.18032787, 0.75510204, 1.        ],\n",
       "       [0.90384615, 0.18852459, 0.34693878, 1.        ],\n",
       "       [0.11538462, 0.18852459, 0.92857143, 0.        ],\n",
       "       [0.57692308, 0.19672131, 0.35714286, 0.        ],\n",
       "       [0.25      , 0.19672131, 0.6122449 , 1.        ],\n",
       "       [0.59615385, 0.19672131, 0.2755102 , 1.        ],\n",
       "       [0.11538462, 0.19672131, 0.65306122, 1.        ],\n",
       "       [0.61538462, 0.20491803, 0.55102041, 1.        ],\n",
       "       [0.17307692, 0.20491803, 0.46938776, 1.        ],\n",
       "       [0.21153846, 0.20491803, 0.41836735, 1.        ],\n",
       "       [0.25      , 0.20491803, 0.41836735, 1.        ],\n",
       "       [0.59615385, 0.22131148, 0.52040816, 1.        ],\n",
       "       [0.28846154, 0.22131148, 0.60204082, 0.        ],\n",
       "       [0.25      , 0.2295082 , 0.54081633, 1.        ],\n",
       "       [0.78846154, 0.2295082 , 0.60204082, 0.        ],\n",
       "       [0.61538462, 0.2295082 , 0.44897959, 1.        ],\n",
       "       [0.55769231, 0.2295082 , 0.40816327, 0.        ],\n",
       "       [0.63461538, 0.23770492, 0.5       , 1.        ],\n",
       "       [0.98076923, 0.23770492, 0.45918367, 0.        ],\n",
       "       [0.17307692, 0.25409836, 0.51020408, 1.        ],\n",
       "       [0.67307692, 0.25409836, 0.45918367, 0.        ],\n",
       "       [1.        , 0.25409836, 0.56122449, 0.        ],\n",
       "       [0.01923077, 0.25409836, 0.55102041, 0.        ],\n",
       "       [0.94230769, 0.26229508, 0.52040816, 1.        ],\n",
       "       [0.69230769, 0.26229508, 0.59183673, 1.        ],\n",
       "       [0.86538462, 0.2704918 , 0.51020408, 0.        ],\n",
       "       [0.        , 0.2704918 , 0.59183673, 0.        ],\n",
       "       [0.48076923, 0.2704918 , 0.5       , 1.        ],\n",
       "       [0.96153846, 0.2704918 , 0.47959184, 1.        ],\n",
       "       [0.01923077, 0.2704918 , 0.59183673, 0.        ],\n",
       "       [0.26923077, 0.2704918 , 0.46938776, 1.        ],\n",
       "       [1.        , 0.27868852, 0.55102041, 0.        ],\n",
       "       [0.55769231, 0.27868852, 0.41836735, 1.        ],\n",
       "       [0.80769231, 0.28688525, 0.48979592, 1.        ],\n",
       "       [0.80769231, 0.28688525, 0.56122449, 1.        ],\n",
       "       [0.78846154, 0.31967213, 0.46938776, 0.        ],\n",
       "       [0.15384615, 0.31967213, 0.54081633, 0.        ],\n",
       "       [0.51923077, 0.31967213, 0.53061224, 1.        ],\n",
       "       [0.42307692, 0.31967213, 0.47959184, 0.        ],\n",
       "       [0.09615385, 0.31967213, 0.52040816, 1.        ],\n",
       "       [0.59615385, 0.31967213, 0.41836735, 1.        ],\n",
       "       [0.75      , 0.31967213, 0.51020408, 0.        ],\n",
       "       [0.38461538, 0.31967213, 0.55102041, 0.        ],\n",
       "       [0.94230769, 0.31967213, 0.40816327, 0.        ],\n",
       "       [0.53846154, 0.31967213, 0.43877551, 1.        ],\n",
       "       [0.05769231, 0.31967213, 0.57142857, 1.        ],\n",
       "       [0.57692308, 0.31967213, 0.45918367, 0.        ],\n",
       "       [0.71153846, 0.3442623 , 0.58163265, 1.        ],\n",
       "       [0.07692308, 0.3442623 , 0.55102041, 1.        ],\n",
       "       [0.30769231, 0.35245902, 0.60204082, 1.        ],\n",
       "       [0.61538462, 0.35245902, 0.45918367, 1.        ],\n",
       "       [0.96153846, 0.36065574, 0.55102041, 1.        ],\n",
       "       [0.        , 0.36065574, 0.40816327, 0.        ],\n",
       "       [0.57692308, 0.36885246, 0.48979592, 0.        ],\n",
       "       [0.42307692, 0.36885246, 0.39795918, 1.        ],\n",
       "       [0.26923077, 0.36885246, 0.41836735, 1.        ],\n",
       "       [0.11538462, 0.36885246, 0.52040816, 0.        ],\n",
       "       [0.55769231, 0.36885246, 0.46938776, 1.        ],\n",
       "       [0.17307692, 0.36885246, 0.5       , 1.        ],\n",
       "       [0.57692308, 0.37704918, 0.41836735, 0.        ],\n",
       "       [0.03846154, 0.37704918, 0.48979592, 0.        ],\n",
       "       [0.09615385, 0.3852459 , 0.40816327, 1.        ],\n",
       "       [0.59615385, 0.3852459 , 0.47959184, 1.        ],\n",
       "       [0.94230769, 0.3852459 , 0.59183673, 0.        ],\n",
       "       [0.15384615, 0.3852459 , 0.55102041, 0.        ],\n",
       "       [0.59615385, 0.3852459 , 0.56122449, 0.        ],\n",
       "       [0.05769231, 0.3852459 , 0.41836735, 1.        ],\n",
       "       [0.92307692, 0.39344262, 0.5       , 1.        ],\n",
       "       [0.69230769, 0.39344262, 0.45918367, 0.        ],\n",
       "       [0.96153846, 0.39344262, 0.42857143, 0.        ],\n",
       "       [0.92307692, 0.39344262, 0.47959184, 0.        ],\n",
       "       [0.90384615, 0.39344262, 0.52040816, 0.        ],\n",
       "       [0.01923077, 0.39344262, 0.54081633, 1.        ],\n",
       "       [0.38461538, 0.40163934, 0.41836735, 1.        ],\n",
       "       [0.01923077, 0.40163934, 0.45918367, 0.        ],\n",
       "       [0.        , 0.40983607, 0.47959184, 1.        ],\n",
       "       [0.01923077, 0.40983607, 0.5       , 1.        ],\n",
       "       [0.86538462, 0.40983607, 0.42857143, 1.        ],\n",
       "       [0.59615385, 0.40983607, 0.59183673, 1.        ],\n",
       "       [0.63461538, 0.42622951, 0.42857143, 1.        ],\n",
       "       [0.61538462, 0.42622951, 0.57142857, 1.        ],\n",
       "       [0.17307692, 0.42622951, 0.56122449, 0.        ],\n",
       "       [0.38461538, 0.42622951, 0.39795918, 1.        ],\n",
       "       [0.42307692, 0.44262295, 0.58163265, 1.        ],\n",
       "       [0.40384615, 0.44262295, 0.91836735, 0.        ],\n",
       "       [0.09615385, 0.45081967, 0.28571429, 1.        ],\n",
       "       [0.25      , 0.45081967, 0.7755102 , 1.        ],\n",
       "       [0.48076923, 0.45901639, 0.34693878, 0.        ],\n",
       "       [0.42307692, 0.45901639, 0.95918367, 0.        ],\n",
       "       [0.78846154, 0.45901639, 0.10204082, 0.        ],\n",
       "       [0.38461538, 0.45901639, 0.75510204, 0.        ],\n",
       "       [0.55769231, 0.45901639, 0.08163265, 0.        ],\n",
       "       [0.40384615, 0.45901639, 0.75510204, 0.        ],\n",
       "       [0.13461538, 0.46721311, 0.33673469, 1.        ],\n",
       "       [0.25      , 0.46721311, 0.71428571, 1.        ],\n",
       "       [0.03846154, 0.47540984, 0.04081633, 0.        ],\n",
       "       [0.21153846, 0.47540984, 0.8877551 , 1.        ],\n",
       "       [0.5       , 0.47540984, 0.06122449, 1.        ],\n",
       "       [0.26923077, 0.47540984, 0.73469388, 0.        ],\n",
       "       [0.01923077, 0.48360656, 0.09183673, 0.        ],\n",
       "       [0.32692308, 0.48360656, 0.7244898 , 1.        ],\n",
       "       [0.75      , 0.49180328, 0.04081633, 1.        ],\n",
       "       [0.26923077, 0.49180328, 0.93877551, 0.        ],\n",
       "       [0.19230769, 0.5       , 0.39795918, 1.        ],\n",
       "       [0.26923077, 0.5       , 0.87755102, 1.        ],\n",
       "       [0.13461538, 0.50819672, 0.1122449 , 0.        ],\n",
       "       [0.19230769, 0.50819672, 0.97959184, 0.        ],\n",
       "       [0.57692308, 0.50819672, 0.35714286, 0.        ],\n",
       "       [0.26923077, 0.50819672, 0.74489796, 1.        ],\n",
       "       [0.30769231, 0.51639344, 0.21428571, 1.        ],\n",
       "       [0.30769231, 0.51639344, 0.90816327, 0.        ],\n",
       "       [0.48076923, 0.51639344, 0.16326531, 0.        ],\n",
       "       [0.40384615, 0.51639344, 0.8877551 , 0.        ],\n",
       "       [0.5       , 0.51639344, 0.19387755, 1.        ],\n",
       "       [0.38461538, 0.51639344, 0.76530612, 1.        ],\n",
       "       [0.55769231, 0.51639344, 0.15306122, 1.        ],\n",
       "       [0.17307692, 0.51639344, 0.89795918, 1.        ],\n",
       "       [0.36538462, 0.51639344, 0.        , 0.        ],\n",
       "       [0.23076923, 0.51639344, 0.78571429, 1.        ],\n",
       "       [0.30769231, 0.51639344, 0.        , 0.        ],\n",
       "       [0.23076923, 0.51639344, 0.73469388, 1.        ],\n",
       "       [0.73076923, 0.52459016, 0.34693878, 1.        ],\n",
       "       [0.21153846, 0.52459016, 0.83673469, 1.        ],\n",
       "       [0.01923077, 0.54098361, 0.04081633, 0.        ],\n",
       "       [0.25      , 0.54098361, 0.93877551, 1.        ],\n",
       "       [0.61538462, 0.57377049, 0.25510204, 0.        ],\n",
       "       [0.34615385, 0.57377049, 0.75510204, 1.        ],\n",
       "       [0.46153846, 0.58196721, 0.19387755, 0.        ],\n",
       "       [0.28846154, 0.58196721, 0.95918367, 1.        ],\n",
       "       [0.34615385, 0.59016393, 0.26530612, 1.        ],\n",
       "       [0.26923077, 0.59016393, 0.63265306, 0.        ],\n",
       "       [0.42307692, 0.59016393, 0.12244898, 0.        ],\n",
       "       [0.19230769, 0.59016393, 0.75510204, 0.        ],\n",
       "       [0.34615385, 0.59016393, 0.09183673, 0.        ],\n",
       "       [0.34615385, 0.59016393, 0.92857143, 0.        ],\n",
       "       [0.65384615, 0.59836066, 0.12244898, 1.        ],\n",
       "       [0.23076923, 0.59836066, 0.86734694, 1.        ],\n",
       "       [0.76923077, 0.59836066, 0.14285714, 0.        ],\n",
       "       [0.17307692, 0.59836066, 0.69387755, 0.        ],\n",
       "       [0.78846154, 0.63934426, 0.13265306, 0.        ],\n",
       "       [0.32692308, 0.63934426, 0.90816327, 0.        ],\n",
       "       [0.36538462, 0.67213115, 0.31632653, 1.        ],\n",
       "       [0.26923077, 0.67213115, 0.86734694, 1.        ],\n",
       "       [0.53846154, 0.68032787, 0.14285714, 0.        ],\n",
       "       [0.21153846, 0.68032787, 0.8877551 , 1.        ],\n",
       "       [0.44230769, 0.68852459, 0.3877551 , 1.        ],\n",
       "       [0.23076923, 0.68852459, 0.97959184, 0.        ],\n",
       "       [0.69230769, 0.70491803, 0.23469388, 1.        ],\n",
       "       [0.19230769, 0.70491803, 0.68367347, 0.        ],\n",
       "       [0.44230769, 0.72131148, 0.16326531, 1.        ],\n",
       "       [0.34615385, 0.72131148, 0.85714286, 1.        ],\n",
       "       [0.30769231, 0.72131148, 0.2244898 , 1.        ],\n",
       "       [0.26923077, 0.72131148, 0.69387755, 1.        ],\n",
       "       [0.28846154, 0.80327869, 0.07142857, 0.        ],\n",
       "       [0.38461538, 0.80327869, 0.91836735, 1.        ],\n",
       "       [0.55769231, 0.86065574, 0.15306122, 1.        ],\n",
       "       [0.32692308, 0.86065574, 0.79591837, 1.        ],\n",
       "       [0.51923077, 0.90983607, 0.2755102 , 1.        ],\n",
       "       [0.26923077, 0.90983607, 0.74489796, 0.        ],\n",
       "       [0.26923077, 1.        , 0.17346939, 0.        ],\n",
       "       [0.23076923, 1.        , 0.83673469, 0.        ]])"
      ]
     },
     "execution_count": 13,
     "metadata": {},
     "output_type": "execute_result"
    }
   ],
   "source": [
    "MinMax=MinMaxScaler()\n",
    "data_scaled=MinMax.fit_transform(data_encoded)\n",
    "data_scaled"
   ]
  },
  {
   "cell_type": "code",
   "execution_count": 33,
   "id": "da8a33cc",
   "metadata": {},
   "outputs": [
    {
     "name": "stdout",
     "output_type": "stream",
     "text": [
      "performing the clustering for k1\n",
      "performing the clustering for k2\n",
      "performing the clustering for k3\n",
      "performing the clustering for k4\n",
      "performing the clustering for k5\n",
      "performing the clustering for k6\n",
      "performing the clustering for k7\n",
      "performing the clustering for k8\n",
      "performing the clustering for k9\n",
      "1 : 0.6490097132098148\n",
      "2 : 0.40553484398215545\n",
      "3 : 0.3589796046816035\n",
      "4 : 0.3120036114813609\n",
      "5 : 0.2881428244097879\n",
      "6 : 0.2618458769175322\n",
      "7 : 0.24350280158175772\n",
      "8 : 0.2272374023797662\n",
      "9 : 0.21090120915584415\n",
      "1 : 86.68148216035942\n",
      "2 : 37.27227241211875\n",
      "3 : 29.552857611943857\n",
      "4 : 22.390960011928552\n",
      "5 : 19.08431819875017\n",
      "6 : 16.434552548082582\n",
      "7 : 14.210424128609384\n",
      "8 : 12.303508767355307\n",
      "9 : 10.581551403138167\n"
     ]
    },
    {
     "data": {
      "image/png": "[encoded data removed]",
      "text/plain": [
       "<Figure size 432x288 with 1 Axes>"
      ]
     },
     "metadata": {
      "needs_background": "light"
     },
     "output_type": "display_data"
    },
    {
     "name": "stdout",
     "output_type": "stream",
     "text": [
      "1 : 86.68148216035942\n",
      "2 : 37.27227241211875\n",
      "3 : 29.552857611943857\n",
      "4 : 22.390960011928552\n",
      "5 : 19.08431819875017\n",
      "6 : 16.434552548082582\n",
      "7 : 14.210424128609384\n",
      "8 : 12.303508767355307\n",
      "9 : 10.581551403138167\n"
     ]
    },
    {
     "data": {
      "image/png": "[encoded data removed]",
      "text/plain": [
       "<Figure size 432x288 with 1 Axes>"
      ]
     },
     "metadata": {
      "needs_background": "light"
     },
     "output_type": "display_data"
    }
   ],
   "source": [
    "\n",
    "distortions = [] \n",
    "inertias = [] \n",
    "mapping1 = {} \n",
    "mapping2 = {} \n",
    "K = range(1,10) \n",
    "\n",
    "\n",
    "#Based on Distortion  \n",
    "for k in K:     \n",
    " \n",
    "    print(\"performing the clustering for k\"+ str(k))\n",
    "    kmeanModel = KMeans(n_clusters=k).fit(data_scaled) \n",
    "    kmeanModel.fit(data_scaled)     \n",
    "      \n",
    "    distortions.append(sum(np.min(cdist(data_scaled, kmeanModel.cluster_centers_, \n",
    "                      'euclidean'),axis=1)) / data_scaled.shape[0]) \n",
    "    inertias.append(kmeanModel.inertia_) \n",
    "  \n",
    "    mapping1[k] = sum(np.min(cdist(data_scaled, kmeanModel.cluster_centers_, \n",
    "                 'euclidean'),axis=1)) / data_scaled.shape[0] #Distortion Values\n",
    "    mapping2[k] = kmeanModel.inertia_ #Inertia Values\n",
    "    \n",
    "    \n",
    "for key,val in mapping1.items(): \n",
    "    print(str(key)+' : '+str(val)) \n",
    "    \n",
    "for key,val in mapping2.items(): \n",
    "    print(str(key)+' : '+str(val)) \n",
    "    \n",
    "plt.plot(K, distortions, 'bx-') \n",
    "plt.xlabel('Values of K') \n",
    "plt.ylabel('Distortion') \n",
    "plt.title('The Elbow Method using Distortion') \n",
    "plt.show() \n",
    "\n",
    "#Based on Inertia\n",
    "for key,val in mapping2.items(): \n",
    "    print(str(key)+' : '+str(val)) \n",
    "    \n",
    "plt.plot(K, inertias, 'bx-') \n",
    "plt.xlabel('Values of K') \n",
    "plt.ylabel('Inertia') \n",
    "plt.title('The Elbow Method using Inertia') \n",
    "plt.show() "
   ]
  },
  {
   "cell_type": "code",
   "execution_count": 78,
   "id": "b1fe74f2",
   "metadata": {},
   "outputs": [
    {
     "data": {
      "image/png": "[encoded data removed]",
      "text/plain": [
       "<Figure size 432x432 with 1 Axes>"
      ]
     },
     "metadata": {
      "needs_background": "light"
     },
     "output_type": "display_data"
    }
   ],
   "source": [
    "wcss = []\n",
    "for k in range(1, 10):\n",
    "    km = KMeans(n_clusters=k)\n",
    "    km.fit(data_scaled)\n",
    "    wcss.append(km.inertia_)\n",
    "\n",
    "\n",
    "plt.figure(figsize=(6, 6))\n",
    "plt.plot(range(1, 10), wcss, '-o', c = 'blue')\n",
    "plt.title(\"Elbow curve to identify optimal value of K\")\n",
    "plt.xlabel('Values of K')\n",
    "plt.ylabel('WCSS');"
   ]
  },
  {
   "cell_type": "code",
   "execution_count": 18,
   "id": "41303b38",
   "metadata": {},
   "outputs": [
    {
     "data": {
      "text/html": [
       "<style>#sk-container-id-2 {color: black;background-color: white;}#sk-container-id-2 pre{padding: 0;}#sk-container-id-2 div.sk-toggleable {background-color: white;}#sk-container-id-2 label.sk-toggleable__label {cursor: pointer;display: block;width: 100%;margin-bottom: 0;padding: 0.3em;box-sizing: border-box;text-align: center;}#sk-container-id-2 label.sk-toggleable__label-arrow:before {content: \"▸\";float: left;margin-right: 0.25em;color: #696969;}#sk-container-id-2 label.sk-toggleable__label-arrow:hover:before {color: black;}#sk-container-id-2 div.sk-estimator:hover label.sk-toggleable__label-arrow:before {color: black;}#sk-container-id-2 div.sk-toggleable__content {max-height: 0;max-width: 0;overflow: hidden;text-align: left;background-color: #f0f8ff;}#sk-container-id-2 div.sk-toggleable__content pre {margin: 0.2em;color: black;border-radius: 0.25em;background-color: #f0f8ff;}#sk-container-id-2 input.sk-toggleable__control:checked~div.sk-toggleable__content {max-height: 200px;max-width: 100%;overflow: auto;}#sk-container-id-2 input.sk-toggleable__control:checked~label.sk-toggleable__label-arrow:before {content: \"▾\";}#sk-container-id-2 div.sk-estimator input.sk-toggleable__control:checked~label.sk-toggleable__label {background-color: #d4ebff;}#sk-container-id-2 div.sk-label input.sk-toggleable__control:checked~label.sk-toggleable__label {background-color: #d4ebff;}#sk-container-id-2 input.sk-hidden--visually {border: 0;clip: rect(1px 1px 1px 1px);clip: rect(1px, 1px, 1px, 1px);height: 1px;margin: -1px;overflow: hidden;padding: 0;position: absolute;width: 1px;}#sk-container-id-2 div.sk-estimator {font-family: monospace;background-color: #f0f8ff;border: 1px dotted black;border-radius: 0.25em;box-sizing: border-box;margin-bottom: 0.5em;}#sk-container-id-2 div.sk-estimator:hover {background-color: #d4ebff;}#sk-container-id-2 div.sk-parallel-item::after {content: \"\";width: 100%;border-bottom: 1px solid gray;flex-grow: 1;}#sk-container-id-2 div.sk-label:hover label.sk-toggleable__label {background-color: #d4ebff;}#sk-container-id-2 div.sk-serial::before {content: \"\";position: absolute;border-left: 1px solid gray;box-sizing: border-box;top: 0;bottom: 0;left: 50%;z-index: 0;}#sk-container-id-2 div.sk-serial {display: flex;flex-direction: column;align-items: center;background-color: white;padding-right: 0.2em;padding-left: 0.2em;position: relative;}#sk-container-id-2 div.sk-item {position: relative;z-index: 1;}#sk-container-id-2 div.sk-parallel {display: flex;align-items: stretch;justify-content: center;background-color: white;position: relative;}#sk-container-id-2 div.sk-item::before, #sk-container-id-2 div.sk-parallel-item::before {content: \"\";position: absolute;border-left: 1px solid gray;box-sizing: border-box;top: 0;bottom: 0;left: 50%;z-index: -1;}#sk-container-id-2 div.sk-parallel-item {display: flex;flex-direction: column;z-index: 1;position: relative;background-color: white;}#sk-container-id-2 div.sk-parallel-item:first-child::after {align-self: flex-end;width: 50%;}#sk-container-id-2 div.sk-parallel-item:last-child::after {align-self: flex-start;width: 50%;}#sk-container-id-2 div.sk-parallel-item:only-child::after {width: 0;}#sk-container-id-2 div.sk-dashed-wrapped {border: 1px dashed gray;margin: 0 0.4em 0.5em 0.4em;box-sizing: border-box;padding-bottom: 0.4em;background-color: white;}#sk-container-id-2 div.sk-label label {font-family: monospace;font-weight: bold;display: inline-block;line-height: 1.2em;}#sk-container-id-2 div.sk-label-container {text-align: center;}#sk-container-id-2 div.sk-container {/* jupyter's `normalize.less` sets `[hidden] { display: none; }` but bootstrap.min.css set `[hidden] { display: none !important; }` so we also need the `!important` here to be able to override the default hidden behavior on the sphinx rendered scikit-learn.org. See: https://github.com/scikit-learn/scikit-learn/issues/21755 */display: inline-block !important;position: relative;}#sk-container-id-2 div.sk-text-repr-fallback {display: none;}</style><div id=\"sk-container-id-2\" class=\"sk-top-container\"><div class=\"sk-text-repr-fallback\"><pre>KMeans(algorithm=&#x27;auto&#x27;, max_iter=900, n_clusters=2, random_state=0)</pre><b>In a Jupyter environment, please rerun this cell to show the HTML representation or trust the notebook. <br />On GitHub, the HTML representation is unable to render, please try loading this page with nbviewer.org.</b></div><div class=\"sk-container\" hidden><div class=\"sk-item\"><div class=\"sk-estimator sk-toggleable\"><input class=\"sk-toggleable__control sk-hidden--visually\" id=\"sk-estimator-id-2\" type=\"checkbox\" checked><label for=\"sk-estimator-id-2\" class=\"sk-toggleable__label sk-toggleable__label-arrow\">KMeans</label><div class=\"sk-toggleable__content\"><pre>KMeans(algorithm=&#x27;auto&#x27;, max_iter=900, n_clusters=2, random_state=0)</pre></div></div></div></div></div>"
      ],
      "text/plain": [
       "KMeans(algorithm='auto', max_iter=900, n_clusters=2, random_state=0)"
      ]
     },
     "execution_count": 18,
     "metadata": {},
     "output_type": "execute_result"
    }
   ],
   "source": [
    "kmeans=KMeans(algorithm='auto', copy_x=True, init='k-means++', max_iter=900,\n",
    "    n_clusters=2, n_init=10,\n",
    "    random_state=0, tol=0.0001, verbose=0)\n",
    "kmeans.fit(data_scaled)"
   ]
  },
  {
   "cell_type": "code",
   "execution_count": 19,
   "id": "679cd2e4",
   "metadata": {},
   "outputs": [
    {
     "name": "stdout",
     "output_type": "stream",
     "text": [
      "Silhouette Score is :0.5194624832665107\n"
     ]
    }
   ],
   "source": [
    "label=kmeans.predict(data_scaled)\n",
    "print(\"Silhouette Score is :\" + str(silhouette_score(data_scaled,label)))"
   ]
  },
  {
   "cell_type": "code",
   "execution_count": 20,
   "id": "7a87779f",
   "metadata": {},
   "outputs": [
    {
     "name": "stdout",
     "output_type": "stream",
     "text": [
      "Within Cluster sum Square (WCSS) is:37.27227241211875\n",
      "\n",
      "\n",
      "Clusters:[0 0 1 1 1 1 1 1 0 1 0 1 1 1 0 0 1 0 0 1 0 0 1 0 1 0 1 0 1 1 0 1 0 0 1 1 1\n",
      " 1 1 1 1 0 0 1 1 1 1 1 1 1 1 0 1 0 1 0 1 0 1 0 0 0 1 1 0 0 1 1 0 1 0 1 1 1\n",
      " 0 0 1 0 1 1 0 0 0 1 1 0 1 1 1 1 1 0 0 1 1 0 1 1 0 0 1 1 0 0 0 1 1 0 0 0 0\n",
      " 1 1 0 1 1 1 1 1 1 0 1 1 0 1 1 0 0 0 0 0 0 1 1 0 1 1 0 0 1 1 0 1 1 0 0 0 1\n",
      " 1 0 0 0 1 1 1 1 0 1 0 1 1 1 0 1 0 1 0 1 1 0 0 0 0 0 1 1 0 0 0 0 1 1 0 1 1\n",
      " 0 1 0 1 1 1 1 0 1 1 1 1 0 0 0]\n",
      "\n",
      "\n",
      "Centroids :[[ 4.19361888e-01  3.87108793e-01  4.84809833e-01 -4.44089210e-16]\n",
      " [ 3.86504121e-01  3.62704918e-01  5.15579446e-01  1.00000000e+00]]\n"
     ]
    }
   ],
   "source": [
    "print(\"Within Cluster sum Square (WCSS) is:\" + str(kmeans.inertia_))\n",
    "print(\"\\n\")\n",
    "print(\"Clusters:\" + str(kmeans.labels_))\n",
    "print(\"\\n\")\n",
    "print(\"Centroids :\" + str(kmeans.cluster_centers_))"
   ]
  },
  {
   "cell_type": "code",
   "execution_count": 21,
   "id": "7ec6f067",
   "metadata": {},
   "outputs": [
    {
     "data": {
      "image/png": "[encoded data removed]",
      "text/plain": [
       "<Figure size 432x432 with 1 Axes>"
      ]
     },
     "metadata": {
      "needs_background": "light"
     },
     "output_type": "display_data"
    }
   ],
   "source": [
    "import scipy.cluster.hierarchy as sch\n",
    "plt.figure(figsize=(6,6))\n",
    "dendrogram = sch.dendrogram(sch.linkage(data_scaled, method  = \"ward\"))\n",
    "plt.title('Dendrogram')\n",
    "plt.xlabel('CUSTOMER_UCI')\n",
    "plt.ylabel('Euclidean distances')\n",
    "plt.show()"
   ]
  },
  {
   "cell_type": "code",
   "execution_count": 22,
   "id": "b958bc54",
   "metadata": {},
   "outputs": [
    {
     "data": {
      "text/plain": [
       "pandas.core.frame.DataFrame"
      ]
     },
     "execution_count": 22,
     "metadata": {},
     "output_type": "execute_result"
    }
   ],
   "source": [
    "label_predicted=pd.DataFrame(label)\n",
    "type(label_predicted)"
   ]
  },
  {
   "cell_type": "code",
   "execution_count": 23,
   "id": "2f900a12",
   "metadata": {},
   "outputs": [],
   "source": [
    "cluster_data=pd.concat([data,label_predicted],axis=1).rename(columns={0:\"Cluster\"})"
   ]
  },
  {
   "cell_type": "code",
   "execution_count": 24,
   "id": "32871860",
   "metadata": {},
   "outputs": [
    {
     "data": {
      "text/html": [
       "<div>\n",
       "<style scoped>\n",
       "    .dataframe tbody tr th:only-of-type {\n",
       "        vertical-align: middle;\n",
       "    }\n",
       "\n",
       "    .dataframe tbody tr th {\n",
       "        vertical-align: top;\n",
       "    }\n",
       "\n",
       "    .dataframe thead th {\n",
       "        text-align: right;\n",
       "    }\n",
       "</style>\n",
       "<table border=\"1\" class=\"dataframe\">\n",
       "  <thead>\n",
       "    <tr style=\"text-align: right;\">\n",
       "      <th></th>\n",
       "      <th>CustomerID</th>\n",
       "      <th>Genre</th>\n",
       "      <th>Age</th>\n",
       "      <th>Annual Income (k$)</th>\n",
       "      <th>Spending Score (1-100)</th>\n",
       "      <th>Cluster</th>\n",
       "    </tr>\n",
       "  </thead>\n",
       "  <tbody>\n",
       "    <tr>\n",
       "      <th>0</th>\n",
       "      <td>1</td>\n",
       "      <td>Male</td>\n",
       "      <td>19</td>\n",
       "      <td>15</td>\n",
       "      <td>39</td>\n",
       "      <td>0</td>\n",
       "    </tr>\n",
       "    <tr>\n",
       "      <th>1</th>\n",
       "      <td>2</td>\n",
       "      <td>Male</td>\n",
       "      <td>21</td>\n",
       "      <td>15</td>\n",
       "      <td>81</td>\n",
       "      <td>0</td>\n",
       "    </tr>\n",
       "    <tr>\n",
       "      <th>2</th>\n",
       "      <td>3</td>\n",
       "      <td>Female</td>\n",
       "      <td>20</td>\n",
       "      <td>16</td>\n",
       "      <td>6</td>\n",
       "      <td>1</td>\n",
       "    </tr>\n",
       "    <tr>\n",
       "      <th>3</th>\n",
       "      <td>4</td>\n",
       "      <td>Female</td>\n",
       "      <td>23</td>\n",
       "      <td>16</td>\n",
       "      <td>77</td>\n",
       "      <td>1</td>\n",
       "    </tr>\n",
       "    <tr>\n",
       "      <th>4</th>\n",
       "      <td>5</td>\n",
       "      <td>Female</td>\n",
       "      <td>31</td>\n",
       "      <td>17</td>\n",
       "      <td>40</td>\n",
       "      <td>1</td>\n",
       "    </tr>\n",
       "    <tr>\n",
       "      <th>...</th>\n",
       "      <td>...</td>\n",
       "      <td>...</td>\n",
       "      <td>...</td>\n",
       "      <td>...</td>\n",
       "      <td>...</td>\n",
       "      <td>...</td>\n",
       "    </tr>\n",
       "    <tr>\n",
       "      <th>195</th>\n",
       "      <td>196</td>\n",
       "      <td>Female</td>\n",
       "      <td>35</td>\n",
       "      <td>120</td>\n",
       "      <td>79</td>\n",
       "      <td>1</td>\n",
       "    </tr>\n",
       "    <tr>\n",
       "      <th>196</th>\n",
       "      <td>197</td>\n",
       "      <td>Female</td>\n",
       "      <td>45</td>\n",
       "      <td>126</td>\n",
       "      <td>28</td>\n",
       "      <td>1</td>\n",
       "    </tr>\n",
       "    <tr>\n",
       "      <th>197</th>\n",
       "      <td>198</td>\n",
       "      <td>Male</td>\n",
       "      <td>32</td>\n",
       "      <td>126</td>\n",
       "      <td>74</td>\n",
       "      <td>0</td>\n",
       "    </tr>\n",
       "    <tr>\n",
       "      <th>198</th>\n",
       "      <td>199</td>\n",
       "      <td>Male</td>\n",
       "      <td>32</td>\n",
       "      <td>137</td>\n",
       "      <td>18</td>\n",
       "      <td>0</td>\n",
       "    </tr>\n",
       "    <tr>\n",
       "      <th>199</th>\n",
       "      <td>200</td>\n",
       "      <td>Male</td>\n",
       "      <td>30</td>\n",
       "      <td>137</td>\n",
       "      <td>83</td>\n",
       "      <td>0</td>\n",
       "    </tr>\n",
       "  </tbody>\n",
       "</table>\n",
       "<p>200 rows × 6 columns</p>\n",
       "</div>"
      ],
      "text/plain": [
       "     CustomerID   Genre  Age  Annual Income (k$)  Spending Score (1-100)  \\\n",
       "0             1    Male   19                  15                      39   \n",
       "1             2    Male   21                  15                      81   \n",
       "2             3  Female   20                  16                       6   \n",
       "3             4  Female   23                  16                      77   \n",
       "4             5  Female   31                  17                      40   \n",
       "..          ...     ...  ...                 ...                     ...   \n",
       "195         196  Female   35                 120                      79   \n",
       "196         197  Female   45                 126                      28   \n",
       "197         198    Male   32                 126                      74   \n",
       "198         199    Male   32                 137                      18   \n",
       "199         200    Male   30                 137                      83   \n",
       "\n",
       "     Cluster  \n",
       "0          0  \n",
       "1          0  \n",
       "2          1  \n",
       "3          1  \n",
       "4          1  \n",
       "..       ...  \n",
       "195        1  \n",
       "196        1  \n",
       "197        0  \n",
       "198        0  \n",
       "199        0  \n",
       "\n",
       "[200 rows x 6 columns]"
      ]
     },
     "metadata": {},
     "output_type": "display_data"
    }
   ],
   "source": [
    "display(cluster_data)"
   ]
  },
  {
   "cell_type": "code",
   "execution_count": 25,
   "id": "07f1921e",
   "metadata": {},
   "outputs": [
    {
     "data": {
      "text/plain": [
       "1    56.0\n",
       "0    44.0\n",
       "Name: Cluster, dtype: float64"
      ]
     },
     "execution_count": 25,
     "metadata": {},
     "output_type": "execute_result"
    }
   ],
   "source": [
    "(cluster_data[\"Cluster\"].value_counts()/len(cluster_data))*100"
   ]
  }
 ],
 "metadata": {
  "kernelspec": {
   "display_name": "Python 3 (ipykernel)",
   "language": "python",
   "name": "python3"
  },
  "language_info": {
   "codemirror_mode": {
    "name": "ipython",
    "version": 3
   },
   "file_extension": ".py",
   "mimetype": "text/x-python",
   "name": "python",
   "nbconvert_exporter": "python",
   "pygments_lexer": "ipython3",
   "version": "3.9.12"
  }
 },
 "nbformat": 4,
 "nbformat_minor": 5
}
